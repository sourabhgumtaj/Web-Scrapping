{
  "nbformat": 4,
  "nbformat_minor": 0,
  "metadata": {
    "colab": {
      "provenance": [],
      "collapsed_sections": []
    },
    "kernelspec": {
      "name": "python3",
      "display_name": "Python 3"
    },
    "language_info": {
      "name": "python"
    }
  },
  "cells": [
    {
      "cell_type": "code",
      "execution_count": 1,
      "metadata": {
        "id": "qKJ6xbsuqRz7"
      },
      "outputs": [],
      "source": [
        "import time\n",
        "import requests\n",
        "import pandas as pd\n",
        "from bs4 import BeautifulSoup as bs"
      ]
    },
    {
      "cell_type": "code",
      "source": [
        "url = 'https://www.croma.com/audio-video/speakers/c/1006'\n",
        "response = requests.get(url)\n",
        "response.status_code"
      ],
      "metadata": {
        "colab": {
          "base_uri": "https://localhost:8080/"
        },
        "id": "aEX0OS2w0zLL",
        "outputId": "faa31196-f4ee-44a9-93d8-fa9f7771ffb3"
      },
      "execution_count": 2,
      "outputs": [
        {
          "output_type": "execute_result",
          "data": {
            "text/plain": [
              "200"
            ]
          },
          "metadata": {},
          "execution_count": 2
        }
      ]
    },
    {
      "cell_type": "code",
      "source": [
        "soup = bs(response.text)"
      ],
      "metadata": {
        "id": "sBsaa6PJ0zOa"
      },
      "execution_count": 3,
      "outputs": []
    },
    {
      "cell_type": "code",
      "source": [
        "name = soup.find('h3', class_='product-title plp-prod-title')\n",
        "name.text"
      ],
      "metadata": {
        "colab": {
          "base_uri": "https://localhost:8080/",
          "height": 36
        },
        "id": "oDXY7tJv0zUQ",
        "outputId": "4e936a99-7c75-4eb9-b7f0-1fc424bbf1ce"
      },
      "execution_count": 4,
      "outputs": [
        {
          "output_type": "execute_result",
          "data": {
            "text/plain": [
              "'boAt Party Pal 23 15W Bluetooth Party Speaker with Mic (Upto 4.5 Hrs Playback, Black)'"
            ],
            "application/vnd.google.colaboratory.intrinsic+json": {
              "type": "string"
            }
          },
          "metadata": {},
          "execution_count": 4
        }
      ]
    },
    {
      "cell_type": "code",
      "source": [
        "disc=soup.find('span',class_='discount discount-mob-plp')\n",
        "disc.text[:3]"
      ],
      "metadata": {
        "colab": {
          "base_uri": "https://localhost:8080/",
          "height": 36
        },
        "id": "LzQRaH-i4o3Y",
        "outputId": "fbf604fa-cd64-4f09-c7f9-7d31f0ba10a6"
      },
      "execution_count": 5,
      "outputs": [
        {
          "output_type": "execute_result",
          "data": {
            "text/plain": [
              "'60%'"
            ],
            "application/vnd.google.colaboratory.intrinsic+json": {
              "type": "string"
            }
          },
          "metadata": {},
          "execution_count": 5
        }
      ]
    },
    {
      "cell_type": "code",
      "source": [
        "price=soup.find('span',class_=\"amount\")\n",
        "price.text"
      ],
      "metadata": {
        "colab": {
          "base_uri": "https://localhost:8080/",
          "height": 36
        },
        "id": "bW4VHsyw4oy-",
        "outputId": "e1856bac-ba18-4362-ac0f-4fb495d13855"
      },
      "execution_count": 6,
      "outputs": [
        {
          "output_type": "execute_result",
          "data": {
            "text/plain": [
              "' ₹2,199.00 '"
            ],
            "application/vnd.google.colaboratory.intrinsic+json": {
              "type": "string"
            }
          },
          "metadata": {},
          "execution_count": 6
        }
      ]
    },
    {
      "cell_type": "code",
      "source": [
        "oldprc=soup.find('span',class_=\"amount\",id='old-price')\n",
        "oldprc.text[5:]"
      ],
      "metadata": {
        "colab": {
          "base_uri": "https://localhost:8080/",
          "height": 36
        },
        "id": "CfnhYULy4oud",
        "outputId": "1f8cfe52-70be-48bd-e7f7-f85108343cc1"
      },
      "execution_count": 7,
      "outputs": [
        {
          "output_type": "execute_result",
          "data": {
            "text/plain": [
              "'₹5,490.00'"
            ],
            "application/vnd.google.colaboratory.intrinsic+json": {
              "type": "string"
            }
          },
          "metadata": {},
          "execution_count": 7
        }
      ]
    },
    {
      "cell_type": "code",
      "source": [
        "def get_details(soup):\n",
        " name = soup.find('h3', class_='product-title plp-prod-title')\n",
        " name.text\n",
        "\n",
        " disc=soup.find('span',class_='discount discount-mob-plp')\n",
        " disc.text\n",
        "\n",
        " price=soup.find('span',class_=\"amount\")\n",
        " price.text\n",
        "\n",
        " oldprc=soup.find('span',class_=\"amount\",id='old-price')\n",
        " oldprc.text\n",
        " \n",
        " return name.text, disc.text, price.text, oldprc.text"
      ],
      "metadata": {
        "id": "bLhEEGQLN75t"
      },
      "execution_count": 8,
      "outputs": []
    },
    {
      "cell_type": "code",
      "source": [
        "def get_soup(url):\n",
        "    \"\"\"Takes URL and returns a soup object\"\"\"\n",
        "    resp = requests.get(url)\n",
        "    if resp.status_code == 200:\n",
        "        return bs(resp.text)\n",
        "    else: return None\n",
        "\n",
        "\n",
        "def get_books(url):\n",
        "    \"\"\"Extact details from all the book tags\"\"\"\n",
        "    soup = get_soup(url)\n",
        "    book_tags = soup.find_all('div', class_='cp-product typ-plp')\n",
        "\n",
        "    books = []\n",
        "    for book_tag in book_tags:\n",
        "        books.append(get_details(book_tag))\n",
        "\n",
        "    return books"
      ],
      "metadata": {
        "id": "4MbIVsBvOmWW"
      },
      "execution_count": 9,
      "outputs": []
    },
    {
      "cell_type": "code",
      "source": [
        "url = 'https://www.croma.com/audio-video/speakers/c/1006'\n",
        "books = get_books(url)\n",
        "len(books)"
      ],
      "metadata": {
        "colab": {
          "base_uri": "https://localhost:8080/"
        },
        "id": "JJpfjKmhOmT5",
        "outputId": "114f90fc-e1bf-4bfe-a2c9-ec31527ca12e"
      },
      "execution_count": 10,
      "outputs": [
        {
          "output_type": "execute_result",
          "data": {
            "text/plain": [
              "10"
            ]
          },
          "metadata": {},
          "execution_count": 10
        }
      ]
    },
    {
      "cell_type": "code",
      "source": [
        "import pandas as pd\n",
        "\n",
        "def get_all_books(page = 0):\n",
        "    books = []\n",
        "    for i in range(1, page+1):\n",
        "        ## This is how the url changes with every page\n",
        "        url = 'https://www.croma.com/audio-video/speakers/c/1006' #f'https://www.croma.com/audio-video/speakers/c/1006/catalogue/page-{i}.html'\n",
        "        soup = get_soup(url)\n",
        "        if soup:    \n",
        "            book_tags = soup.find_all('div', class_='cp-product typ-plp')\n",
        "\n",
        "            for book_tag in book_tags:\n",
        "                books.append(get_details(book_tag))\n",
        "            \n",
        "    books = pd.DataFrame(books, columns=['name', 'disc', 'price', 'oldpcr'])\n",
        "    return books"
      ],
      "metadata": {
        "id": "QmOvht6zOmRH"
      },
      "execution_count": 11,
      "outputs": []
    },
    {
      "cell_type": "code",
      "source": [
        "df = get_all_books(1)\n",
        "df"
      ],
      "metadata": {
        "colab": {
          "base_uri": "https://localhost:8080/",
          "height": 363
        },
        "id": "DucX_GHkOmPD",
        "outputId": "d2f3adcf-ecd8-40da-8985-9a30313f920a"
      },
      "execution_count": 13,
      "outputs": [
        {
          "output_type": "execute_result",
          "data": {
            "text/plain": [
              "                                                name     disc         price  \\\n",
              "0  boAt Party Pal 23 15W Bluetooth Party Speaker ...  60% Off    ₹2,199.00    \n",
              "1  ZEBRONICS Zeb-Thump 200 28W Bluetooth Party Sp...  40% Off    ₹4,799.00    \n",
              "2  Croma 500W Bluetooth Party Speaker with Mic (B...  40% Off    ₹5,999.00    \n",
              "3  boAt Party Pal 63 20W Bluetooth Party Speaker ...  63% Off    ₹3,699.00    \n",
              "4  Croma 1400W Bluetooth Party Speaker with Mic (...  44% Off   ₹13,990.00    \n",
              "5  boAt Stone Grenade 5W Portable Bluetooth Speak...  80% Off      ₹799.00    \n",
              "6  ZEBRONICS Zeb-Delight 3W Portable Bluetooth Sp...  56% Off      ₹399.00    \n",
              "7  Croma Kube 5 Watts Portable Bluetooth Speaker ...  60% Off      ₹799.00    \n",
              "8  Croma 5W Portable Bluetooth Speaker (IPX7 Wate...  53% Off      ₹699.00    \n",
              "9  boAt Stone 193 5W Portable Bluetooth Speaker (...  70% Off      ₹899.00    \n",
              "\n",
              "            oldpcr  \n",
              "0   MRP: ₹5,490.00  \n",
              "1   MRP: ₹7,999.00  \n",
              "2  MRP: ₹10,000.00  \n",
              "3   MRP: ₹9,990.00  \n",
              "4  MRP: ₹25,000.00  \n",
              "5   MRP: ₹3,990.00  \n",
              "6     MRP: ₹899.00  \n",
              "7   MRP: ₹2,000.00  \n",
              "8   MRP: ₹1,500.00  \n",
              "9   MRP: ₹2,999.00  "
            ],
            "text/html": [
              "\n",
              "  <div id=\"df-468bffa4-ed6a-473a-99ff-bb83f0344884\">\n",
              "    <div class=\"colab-df-container\">\n",
              "      <div>\n",
              "<style scoped>\n",
              "    .dataframe tbody tr th:only-of-type {\n",
              "        vertical-align: middle;\n",
              "    }\n",
              "\n",
              "    .dataframe tbody tr th {\n",
              "        vertical-align: top;\n",
              "    }\n",
              "\n",
              "    .dataframe thead th {\n",
              "        text-align: right;\n",
              "    }\n",
              "</style>\n",
              "<table border=\"1\" class=\"dataframe\">\n",
              "  <thead>\n",
              "    <tr style=\"text-align: right;\">\n",
              "      <th></th>\n",
              "      <th>name</th>\n",
              "      <th>disc</th>\n",
              "      <th>price</th>\n",
              "      <th>oldpcr</th>\n",
              "    </tr>\n",
              "  </thead>\n",
              "  <tbody>\n",
              "    <tr>\n",
              "      <th>0</th>\n",
              "      <td>boAt Party Pal 23 15W Bluetooth Party Speaker ...</td>\n",
              "      <td>60% Off</td>\n",
              "      <td>₹2,199.00</td>\n",
              "      <td>MRP: ₹5,490.00</td>\n",
              "    </tr>\n",
              "    <tr>\n",
              "      <th>1</th>\n",
              "      <td>ZEBRONICS Zeb-Thump 200 28W Bluetooth Party Sp...</td>\n",
              "      <td>40% Off</td>\n",
              "      <td>₹4,799.00</td>\n",
              "      <td>MRP: ₹7,999.00</td>\n",
              "    </tr>\n",
              "    <tr>\n",
              "      <th>2</th>\n",
              "      <td>Croma 500W Bluetooth Party Speaker with Mic (B...</td>\n",
              "      <td>40% Off</td>\n",
              "      <td>₹5,999.00</td>\n",
              "      <td>MRP: ₹10,000.00</td>\n",
              "    </tr>\n",
              "    <tr>\n",
              "      <th>3</th>\n",
              "      <td>boAt Party Pal 63 20W Bluetooth Party Speaker ...</td>\n",
              "      <td>63% Off</td>\n",
              "      <td>₹3,699.00</td>\n",
              "      <td>MRP: ₹9,990.00</td>\n",
              "    </tr>\n",
              "    <tr>\n",
              "      <th>4</th>\n",
              "      <td>Croma 1400W Bluetooth Party Speaker with Mic (...</td>\n",
              "      <td>44% Off</td>\n",
              "      <td>₹13,990.00</td>\n",
              "      <td>MRP: ₹25,000.00</td>\n",
              "    </tr>\n",
              "    <tr>\n",
              "      <th>5</th>\n",
              "      <td>boAt Stone Grenade 5W Portable Bluetooth Speak...</td>\n",
              "      <td>80% Off</td>\n",
              "      <td>₹799.00</td>\n",
              "      <td>MRP: ₹3,990.00</td>\n",
              "    </tr>\n",
              "    <tr>\n",
              "      <th>6</th>\n",
              "      <td>ZEBRONICS Zeb-Delight 3W Portable Bluetooth Sp...</td>\n",
              "      <td>56% Off</td>\n",
              "      <td>₹399.00</td>\n",
              "      <td>MRP: ₹899.00</td>\n",
              "    </tr>\n",
              "    <tr>\n",
              "      <th>7</th>\n",
              "      <td>Croma Kube 5 Watts Portable Bluetooth Speaker ...</td>\n",
              "      <td>60% Off</td>\n",
              "      <td>₹799.00</td>\n",
              "      <td>MRP: ₹2,000.00</td>\n",
              "    </tr>\n",
              "    <tr>\n",
              "      <th>8</th>\n",
              "      <td>Croma 5W Portable Bluetooth Speaker (IPX7 Wate...</td>\n",
              "      <td>53% Off</td>\n",
              "      <td>₹699.00</td>\n",
              "      <td>MRP: ₹1,500.00</td>\n",
              "    </tr>\n",
              "    <tr>\n",
              "      <th>9</th>\n",
              "      <td>boAt Stone 193 5W Portable Bluetooth Speaker (...</td>\n",
              "      <td>70% Off</td>\n",
              "      <td>₹899.00</td>\n",
              "      <td>MRP: ₹2,999.00</td>\n",
              "    </tr>\n",
              "  </tbody>\n",
              "</table>\n",
              "</div>\n",
              "      <button class=\"colab-df-convert\" onclick=\"convertToInteractive('df-468bffa4-ed6a-473a-99ff-bb83f0344884')\"\n",
              "              title=\"Convert this dataframe to an interactive table.\"\n",
              "              style=\"display:none;\">\n",
              "        \n",
              "  <svg xmlns=\"http://www.w3.org/2000/svg\" height=\"24px\"viewBox=\"0 0 24 24\"\n",
              "       width=\"24px\">\n",
              "    <path d=\"M0 0h24v24H0V0z\" fill=\"none\"/>\n",
              "    <path d=\"M18.56 5.44l.94 2.06.94-2.06 2.06-.94-2.06-.94-.94-2.06-.94 2.06-2.06.94zm-11 1L8.5 8.5l.94-2.06 2.06-.94-2.06-.94L8.5 2.5l-.94 2.06-2.06.94zm10 10l.94 2.06.94-2.06 2.06-.94-2.06-.94-.94-2.06-.94 2.06-2.06.94z\"/><path d=\"M17.41 7.96l-1.37-1.37c-.4-.4-.92-.59-1.43-.59-.52 0-1.04.2-1.43.59L10.3 9.45l-7.72 7.72c-.78.78-.78 2.05 0 2.83L4 21.41c.39.39.9.59 1.41.59.51 0 1.02-.2 1.41-.59l7.78-7.78 2.81-2.81c.8-.78.8-2.07 0-2.86zM5.41 20L4 18.59l7.72-7.72 1.47 1.35L5.41 20z\"/>\n",
              "  </svg>\n",
              "      </button>\n",
              "      \n",
              "  <style>\n",
              "    .colab-df-container {\n",
              "      display:flex;\n",
              "      flex-wrap:wrap;\n",
              "      gap: 12px;\n",
              "    }\n",
              "\n",
              "    .colab-df-convert {\n",
              "      background-color: #E8F0FE;\n",
              "      border: none;\n",
              "      border-radius: 50%;\n",
              "      cursor: pointer;\n",
              "      display: none;\n",
              "      fill: #1967D2;\n",
              "      height: 32px;\n",
              "      padding: 0 0 0 0;\n",
              "      width: 32px;\n",
              "    }\n",
              "\n",
              "    .colab-df-convert:hover {\n",
              "      background-color: #E2EBFA;\n",
              "      box-shadow: 0px 1px 2px rgba(60, 64, 67, 0.3), 0px 1px 3px 1px rgba(60, 64, 67, 0.15);\n",
              "      fill: #174EA6;\n",
              "    }\n",
              "\n",
              "    [theme=dark] .colab-df-convert {\n",
              "      background-color: #3B4455;\n",
              "      fill: #D2E3FC;\n",
              "    }\n",
              "\n",
              "    [theme=dark] .colab-df-convert:hover {\n",
              "      background-color: #434B5C;\n",
              "      box-shadow: 0px 1px 3px 1px rgba(0, 0, 0, 0.15);\n",
              "      filter: drop-shadow(0px 1px 2px rgba(0, 0, 0, 0.3));\n",
              "      fill: #FFFFFF;\n",
              "    }\n",
              "  </style>\n",
              "\n",
              "      <script>\n",
              "        const buttonEl =\n",
              "          document.querySelector('#df-468bffa4-ed6a-473a-99ff-bb83f0344884 button.colab-df-convert');\n",
              "        buttonEl.style.display =\n",
              "          google.colab.kernel.accessAllowed ? 'block' : 'none';\n",
              "\n",
              "        async function convertToInteractive(key) {\n",
              "          const element = document.querySelector('#df-468bffa4-ed6a-473a-99ff-bb83f0344884');\n",
              "          const dataTable =\n",
              "            await google.colab.kernel.invokeFunction('convertToInteractive',\n",
              "                                                     [key], {});\n",
              "          if (!dataTable) return;\n",
              "\n",
              "          const docLinkHtml = 'Like what you see? Visit the ' +\n",
              "            '<a target=\"_blank\" href=https://colab.research.google.com/notebooks/data_table.ipynb>data table notebook</a>'\n",
              "            + ' to learn more about interactive tables.';\n",
              "          element.innerHTML = '';\n",
              "          dataTable['output_type'] = 'display_data';\n",
              "          await google.colab.output.renderOutput(dataTable, element);\n",
              "          const docLink = document.createElement('div');\n",
              "          docLink.innerHTML = docLinkHtml;\n",
              "          element.appendChild(docLink);\n",
              "        }\n",
              "      </script>\n",
              "    </div>\n",
              "  </div>\n",
              "  "
            ]
          },
          "metadata": {},
          "execution_count": 13
        }
      ]
    },
    {
      "cell_type": "code",
      "source": [],
      "metadata": {
        "id": "oxruDYbmOmLQ"
      },
      "execution_count": 12,
      "outputs": []
    }
  ]
}