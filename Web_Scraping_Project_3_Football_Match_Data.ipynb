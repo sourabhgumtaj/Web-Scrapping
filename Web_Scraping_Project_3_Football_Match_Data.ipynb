{
  "nbformat": 4,
  "nbformat_minor": 0,
  "metadata": {
    "colab": {
      "provenance": [],
      "collapsed_sections": []
    },
    "kernelspec": {
      "name": "python3",
      "display_name": "Python 3"
    },
    "language_info": {
      "name": "python"
    }
  },
  "cells": [
    {
      "cell_type": "code",
      "execution_count": 25,
      "metadata": {
        "id": "Kyt_zustXK1r"
      },
      "outputs": [],
      "source": [
        "import time\n",
        "import requests\n",
        "import pandas as pd\n",
        "from bs4 import BeautifulSoup as bs"
      ]
    },
    {
      "cell_type": "code",
      "source": [
        "url = 'https://www.soccerbase.com/teams/head_to_head.sd?team_id=142&team2_id=1718'\n",
        "response = requests.get(url)\n",
        "response.status_code"
      ],
      "metadata": {
        "colab": {
          "base_uri": "https://localhost:8080/"
        },
        "id": "xhjgR43XXYvC",
        "outputId": "9993a708-2b81-4939-fa8c-7876db1a6229"
      },
      "execution_count": 26,
      "outputs": [
        {
          "output_type": "execute_result",
          "data": {
            "text/plain": [
              "200"
            ]
          },
          "metadata": {},
          "execution_count": 26
        }
      ]
    },
    {
      "cell_type": "code",
      "source": [
        "soup = bs(response.text)\n"
      ],
      "metadata": {
        "id": "-_xYFFaSXYsb"
      },
      "execution_count": 27,
      "outputs": []
    },
    {
      "cell_type": "code",
      "source": [
        "league = soup.find('td', class_='first tournament')\n",
        "league.text"
      ],
      "metadata": {
        "colab": {
          "base_uri": "https://localhost:8080/",
          "height": 36
        },
        "id": "5fShMCJ_XYpv",
        "outputId": "308b8ca8-257d-4038-ef0d-30e2344cfa48"
      },
      "execution_count": 28,
      "outputs": [
        {
          "output_type": "execute_result",
          "data": {
            "text/plain": [
              "'Premier League'"
            ],
            "application/vnd.google.colaboratory.intrinsic+json": {
              "type": "string"
            }
          },
          "metadata": {},
          "execution_count": 28
        }
      ]
    },
    {
      "cell_type": "code",
      "source": [
        "date=soup.find('td',class_='dateTime')\n",
        "date.text"
      ],
      "metadata": {
        "colab": {
          "base_uri": "https://localhost:8080/",
          "height": 36
        },
        "id": "auJlM5V6XYlX",
        "outputId": "417c06b9-05e1-456c-c4c4-6f85181ecd16"
      },
      "execution_count": 29,
      "outputs": [
        {
          "output_type": "execute_result",
          "data": {
            "text/plain": [
              "'Sa 01Jan 2022'"
            ],
            "application/vnd.google.colaboratory.intrinsic+json": {
              "type": "string"
            }
          },
          "metadata": {},
          "execution_count": 29
        }
      ]
    },
    {
      "cell_type": "code",
      "source": [
        "hometeam=soup.find('td',class_='team homeTeam')\n",
        "hometeam.text\n"
      ],
      "metadata": {
        "colab": {
          "base_uri": "https://localhost:8080/",
          "height": 36
        },
        "id": "BRCqDMU9XYh7",
        "outputId": "eb14bdd9-0672-4457-f0bf-5a8d77316451"
      },
      "execution_count": 30,
      "outputs": [
        {
          "output_type": "execute_result",
          "data": {
            "text/plain": [
              "'Arsenal'"
            ],
            "application/vnd.google.colaboratory.intrinsic+json": {
              "type": "string"
            }
          },
          "metadata": {},
          "execution_count": 30
        }
      ]
    },
    {
      "cell_type": "code",
      "source": [
        "awayteam=soup.find('td',class_='team awayTeam')\n",
        "awayteam.text"
      ],
      "metadata": {
        "colab": {
          "base_uri": "https://localhost:8080/",
          "height": 36
        },
        "id": "J3oyY5buXYe5",
        "outputId": "96ce4932-14e3-4a39-9b66-d6459ee0d9e2"
      },
      "execution_count": 31,
      "outputs": [
        {
          "output_type": "execute_result",
          "data": {
            "text/plain": [
              "'Man City'"
            ],
            "application/vnd.google.colaboratory.intrinsic+json": {
              "type": "string"
            }
          },
          "metadata": {},
          "execution_count": 31
        }
      ]
    },
    {
      "cell_type": "code",
      "source": [
        "home_score=soup.find('td',class_='score')\n",
        "home_score.text[0]"
      ],
      "metadata": {
        "colab": {
          "base_uri": "https://localhost:8080/",
          "height": 36
        },
        "id": "22UsX2Y7XYYW",
        "outputId": "3b183cf9-d1ea-4251-8101-a5c4c6f7f484"
      },
      "execution_count": 32,
      "outputs": [
        {
          "output_type": "execute_result",
          "data": {
            "text/plain": [
              "'1'"
            ],
            "application/vnd.google.colaboratory.intrinsic+json": {
              "type": "string"
            }
          },
          "metadata": {},
          "execution_count": 32
        }
      ]
    },
    {
      "cell_type": "code",
      "source": [
        "away_score=soup.find('td',class_='score')\n",
        "away_score.text[-1]"
      ],
      "metadata": {
        "colab": {
          "base_uri": "https://localhost:8080/",
          "height": 36
        },
        "id": "wZU65LSfZD4_",
        "outputId": "f111cfb4-1e10-4413-efbe-bbd84db9f5e0"
      },
      "execution_count": 33,
      "outputs": [
        {
          "output_type": "execute_result",
          "data": {
            "text/plain": [
              "'2'"
            ],
            "application/vnd.google.colaboratory.intrinsic+json": {
              "type": "string"
            }
          },
          "metadata": {},
          "execution_count": 33
        }
      ]
    },
    {
      "cell_type": "code",
      "source": [
        "def get_details(soup):\n",
        "  league = soup.find('td', class_='first tournament')\n",
        "  league.text\n",
        "\n",
        "  date=soup.find('td',class_='dateTime')\n",
        "  date.text\n",
        "\n",
        "  hometeam=soup.find('td',class_='team homeTeam')\n",
        "  hometeam.text\n",
        "\n",
        "  awayteam=soup.find('td',class_='team awayTeam')\n",
        "  awayteam.text\n",
        "\n",
        "  home_score=soup.find('td',class_='score')\n",
        "  home_score.text[0]\n",
        "\n",
        "  away_score=soup.find('td',class_='score')\n",
        "  away_score.text[-1]\n",
        " \n",
        "  return league.text, date.text, hometeam.text,awayteam.text, home_score.text[0],away_score.text[-1]"
      ],
      "metadata": {
        "id": "4KwmfVjUZD10"
      },
      "execution_count": 34,
      "outputs": []
    },
    {
      "cell_type": "code",
      "source": [
        "def get_soup(url):\n",
        "    \"\"\"Takes URL and returns a soup object\"\"\"\n",
        "    resp = requests.get(url)\n",
        "    if resp.status_code == 200:\n",
        "        return bs(resp.text)\n",
        "    else: return None\n",
        "\n",
        "\n",
        "def get_books(url):\n",
        "    \"\"\"Extact details from all the book tags\"\"\"\n",
        "    soup = get_soup(url)\n",
        "    book_tags = soup.find_all('tbody')\n",
        "\n",
        "    books = []\n",
        "    for book_tag in book_tags:\n",
        "        books.append(get_details(book_tag))\n",
        "\n",
        "    return books"
      ],
      "metadata": {
        "id": "xz07Ieo6a2mP"
      },
      "execution_count": 35,
      "outputs": []
    },
    {
      "cell_type": "code",
      "source": [
        "def get_soup(url):\n",
        "    \"\"\"Takes URL and returns a soup object\"\"\"\n",
        "    resp = requests.get(url)\n",
        "    if resp.status_code == 200:\n",
        "        return bs(resp.text)\n",
        "    else: return None\n",
        "\n",
        "\n",
        "def get_books(url):\n",
        "    \"\"\"Extact details from all the book tags\"\"\"\n",
        "    soup = get_soup(url)\n",
        "    book_tags = soup.find_all('tr', class_='match')\n",
        "\n",
        "    books = []\n",
        "    for book_tag in book_tags:\n",
        "        books.append(get_details(book_tag))\n",
        "\n",
        "    return books"
      ],
      "metadata": {
        "id": "PPzY5B9GeAqa"
      },
      "execution_count": 36,
      "outputs": []
    },
    {
      "cell_type": "code",
      "source": [
        "url = 'https://www.soccerbase.com/teams/head_to_head.sd?team_id=142&team2_id=1718'\n",
        "books = get_books(url)\n",
        "len(books)"
      ],
      "metadata": {
        "colab": {
          "base_uri": "https://localhost:8080/"
        },
        "id": "qB-EG_0ga2fb",
        "outputId": "8a124d8e-f334-47b4-8e1f-3e68a9cafdcf"
      },
      "execution_count": 37,
      "outputs": [
        {
          "output_type": "execute_result",
          "data": {
            "text/plain": [
              "205"
            ]
          },
          "metadata": {},
          "execution_count": 37
        }
      ]
    },
    {
      "cell_type": "code",
      "source": [
        "import pandas as pd\n",
        "\n",
        "def get_all_books(page = 0):\n",
        "    books = []\n",
        "    for i in range(1, page+1):\n",
        "        ## This is how the url changes with every page\n",
        "        url = 'https://www.soccerbase.com/teams/head_to_head.sd?team_id=142&team2_id=1718'\n",
        "        soup = get_soup(url)\n",
        "        if soup:    \n",
        "            book_tags = soup.find_all('tr', class_='match')\n",
        "\n",
        "            for book_tag in book_tags:\n",
        "                books.append(get_details(book_tag))\n",
        "            \n",
        "    books = pd.DataFrame(books, columns=['league', 'date','hteam', 'ateam', 'hscore', 'ascore'])\n",
        "    return books"
      ],
      "metadata": {
        "id": "gTeb_NgTeNeo"
      },
      "execution_count": 38,
      "outputs": []
    },
    {
      "cell_type": "code",
      "source": [
        "df = get_all_books(1)\n",
        "df.head(5)"
      ],
      "metadata": {
        "colab": {
          "base_uri": "https://localhost:8080/",
          "height": 206
        },
        "id": "zp89iNQCeNbN",
        "outputId": "a74cd663-c761-48fb-d4fe-1b842ca5a9b9"
      },
      "execution_count": 39,
      "outputs": [
        {
          "output_type": "execute_result",
          "data": {
            "text/plain": [
              "           league           date     hteam     ateam hscore ascore\n",
              "0  Premier League  Sa 01Jan 2022   Arsenal  Man City      1      2\n",
              "1  Premier League  Sa 28Aug 2021  Man City   Arsenal      5      0\n",
              "2  Premier League  Su 21Feb 2021   Arsenal  Man City      0      1\n",
              "3         EFL Cup  Tu 22Dec 2020   Arsenal  Man City      1      4\n",
              "4  Premier League  Sa 17Oct 2020  Man City   Arsenal      1      0"
            ],
            "text/html": [
              "\n",
              "  <div id=\"df-d10ad8b3-f28d-4420-9c97-6f514fb4b75b\">\n",
              "    <div class=\"colab-df-container\">\n",
              "      <div>\n",
              "<style scoped>\n",
              "    .dataframe tbody tr th:only-of-type {\n",
              "        vertical-align: middle;\n",
              "    }\n",
              "\n",
              "    .dataframe tbody tr th {\n",
              "        vertical-align: top;\n",
              "    }\n",
              "\n",
              "    .dataframe thead th {\n",
              "        text-align: right;\n",
              "    }\n",
              "</style>\n",
              "<table border=\"1\" class=\"dataframe\">\n",
              "  <thead>\n",
              "    <tr style=\"text-align: right;\">\n",
              "      <th></th>\n",
              "      <th>league</th>\n",
              "      <th>date</th>\n",
              "      <th>hteam</th>\n",
              "      <th>ateam</th>\n",
              "      <th>hscore</th>\n",
              "      <th>ascore</th>\n",
              "    </tr>\n",
              "  </thead>\n",
              "  <tbody>\n",
              "    <tr>\n",
              "      <th>0</th>\n",
              "      <td>Premier League</td>\n",
              "      <td>Sa 01Jan 2022</td>\n",
              "      <td>Arsenal</td>\n",
              "      <td>Man City</td>\n",
              "      <td>1</td>\n",
              "      <td>2</td>\n",
              "    </tr>\n",
              "    <tr>\n",
              "      <th>1</th>\n",
              "      <td>Premier League</td>\n",
              "      <td>Sa 28Aug 2021</td>\n",
              "      <td>Man City</td>\n",
              "      <td>Arsenal</td>\n",
              "      <td>5</td>\n",
              "      <td>0</td>\n",
              "    </tr>\n",
              "    <tr>\n",
              "      <th>2</th>\n",
              "      <td>Premier League</td>\n",
              "      <td>Su 21Feb 2021</td>\n",
              "      <td>Arsenal</td>\n",
              "      <td>Man City</td>\n",
              "      <td>0</td>\n",
              "      <td>1</td>\n",
              "    </tr>\n",
              "    <tr>\n",
              "      <th>3</th>\n",
              "      <td>EFL Cup</td>\n",
              "      <td>Tu 22Dec 2020</td>\n",
              "      <td>Arsenal</td>\n",
              "      <td>Man City</td>\n",
              "      <td>1</td>\n",
              "      <td>4</td>\n",
              "    </tr>\n",
              "    <tr>\n",
              "      <th>4</th>\n",
              "      <td>Premier League</td>\n",
              "      <td>Sa 17Oct 2020</td>\n",
              "      <td>Man City</td>\n",
              "      <td>Arsenal</td>\n",
              "      <td>1</td>\n",
              "      <td>0</td>\n",
              "    </tr>\n",
              "  </tbody>\n",
              "</table>\n",
              "</div>\n",
              "      <button class=\"colab-df-convert\" onclick=\"convertToInteractive('df-d10ad8b3-f28d-4420-9c97-6f514fb4b75b')\"\n",
              "              title=\"Convert this dataframe to an interactive table.\"\n",
              "              style=\"display:none;\">\n",
              "        \n",
              "  <svg xmlns=\"http://www.w3.org/2000/svg\" height=\"24px\"viewBox=\"0 0 24 24\"\n",
              "       width=\"24px\">\n",
              "    <path d=\"M0 0h24v24H0V0z\" fill=\"none\"/>\n",
              "    <path d=\"M18.56 5.44l.94 2.06.94-2.06 2.06-.94-2.06-.94-.94-2.06-.94 2.06-2.06.94zm-11 1L8.5 8.5l.94-2.06 2.06-.94-2.06-.94L8.5 2.5l-.94 2.06-2.06.94zm10 10l.94 2.06.94-2.06 2.06-.94-2.06-.94-.94-2.06-.94 2.06-2.06.94z\"/><path d=\"M17.41 7.96l-1.37-1.37c-.4-.4-.92-.59-1.43-.59-.52 0-1.04.2-1.43.59L10.3 9.45l-7.72 7.72c-.78.78-.78 2.05 0 2.83L4 21.41c.39.39.9.59 1.41.59.51 0 1.02-.2 1.41-.59l7.78-7.78 2.81-2.81c.8-.78.8-2.07 0-2.86zM5.41 20L4 18.59l7.72-7.72 1.47 1.35L5.41 20z\"/>\n",
              "  </svg>\n",
              "      </button>\n",
              "      \n",
              "  <style>\n",
              "    .colab-df-container {\n",
              "      display:flex;\n",
              "      flex-wrap:wrap;\n",
              "      gap: 12px;\n",
              "    }\n",
              "\n",
              "    .colab-df-convert {\n",
              "      background-color: #E8F0FE;\n",
              "      border: none;\n",
              "      border-radius: 50%;\n",
              "      cursor: pointer;\n",
              "      display: none;\n",
              "      fill: #1967D2;\n",
              "      height: 32px;\n",
              "      padding: 0 0 0 0;\n",
              "      width: 32px;\n",
              "    }\n",
              "\n",
              "    .colab-df-convert:hover {\n",
              "      background-color: #E2EBFA;\n",
              "      box-shadow: 0px 1px 2px rgba(60, 64, 67, 0.3), 0px 1px 3px 1px rgba(60, 64, 67, 0.15);\n",
              "      fill: #174EA6;\n",
              "    }\n",
              "\n",
              "    [theme=dark] .colab-df-convert {\n",
              "      background-color: #3B4455;\n",
              "      fill: #D2E3FC;\n",
              "    }\n",
              "\n",
              "    [theme=dark] .colab-df-convert:hover {\n",
              "      background-color: #434B5C;\n",
              "      box-shadow: 0px 1px 3px 1px rgba(0, 0, 0, 0.15);\n",
              "      filter: drop-shadow(0px 1px 2px rgba(0, 0, 0, 0.3));\n",
              "      fill: #FFFFFF;\n",
              "    }\n",
              "  </style>\n",
              "\n",
              "      <script>\n",
              "        const buttonEl =\n",
              "          document.querySelector('#df-d10ad8b3-f28d-4420-9c97-6f514fb4b75b button.colab-df-convert');\n",
              "        buttonEl.style.display =\n",
              "          google.colab.kernel.accessAllowed ? 'block' : 'none';\n",
              "\n",
              "        async function convertToInteractive(key) {\n",
              "          const element = document.querySelector('#df-d10ad8b3-f28d-4420-9c97-6f514fb4b75b');\n",
              "          const dataTable =\n",
              "            await google.colab.kernel.invokeFunction('convertToInteractive',\n",
              "                                                     [key], {});\n",
              "          if (!dataTable) return;\n",
              "\n",
              "          const docLinkHtml = 'Like what you see? Visit the ' +\n",
              "            '<a target=\"_blank\" href=https://colab.research.google.com/notebooks/data_table.ipynb>data table notebook</a>'\n",
              "            + ' to learn more about interactive tables.';\n",
              "          element.innerHTML = '';\n",
              "          dataTable['output_type'] = 'display_data';\n",
              "          await google.colab.output.renderOutput(dataTable, element);\n",
              "          const docLink = document.createElement('div');\n",
              "          docLink.innerHTML = docLinkHtml;\n",
              "          element.appendChild(docLink);\n",
              "        }\n",
              "      </script>\n",
              "    </div>\n",
              "  </div>\n",
              "  "
            ]
          },
          "metadata": {},
          "execution_count": 39
        }
      ]
    },
    {
      "cell_type": "code",
      "source": [
        "df1=df.copy()\n",
        "df2=df.copy()\n"
      ],
      "metadata": {
        "id": "ImiE549O4SyQ"
      },
      "execution_count": 40,
      "outputs": []
    },
    {
      "cell_type": "code",
      "source": [
        "df2.loc[df2['hscore']>df2['ascore'],'hteam']"
      ],
      "metadata": {
        "colab": {
          "base_uri": "https://localhost:8080/"
        },
        "id": "Pnvly_s47qUx",
        "outputId": "8a37f0d0-ee5e-4d09-cb1f-f9387480c8cd"
      },
      "execution_count": 41,
      "outputs": [
        {
          "output_type": "execute_result",
          "data": {
            "text/plain": [
              "1      Man City\n",
              "4      Man City\n",
              "5       Arsenal\n",
              "6      Man City\n",
              "8      Man City\n",
              "         ...   \n",
              "196    Man City\n",
              "199    Man City\n",
              "201    Man City\n",
              "202     Arsenal\n",
              "204     Arsenal\n",
              "Name: hteam, Length: 99, dtype: object"
            ]
          },
          "metadata": {},
          "execution_count": 41
        }
      ]
    },
    {
      "cell_type": "code",
      "source": [
        "df2 = df1[['hteam', 'ateam',\t'hscore', 'ascore']]\n",
        "df2['Winner'] = 'Draw'\n",
        "df2.loc[df2['hscore']>df2['ascore'],'Winner'] = df2.loc[df2['hscore']>df2['ascore'],'hteam']\n",
        "df2.loc[df2['hscore']<df2['ascore'],'Winner'] = df2.loc[df2['hscore']<df2['ascore'],'ateam']\n",
        "df2"
      ],
      "metadata": {
        "colab": {
          "base_uri": "https://localhost:8080/",
          "height": 632
        },
        "id": "qtf8aT_s5PIn",
        "outputId": "696c3b3b-6d88-44f2-8d05-b3a0d01c9973"
      },
      "execution_count": 42,
      "outputs": [
        {
          "output_type": "stream",
          "name": "stderr",
          "text": [
            "/usr/local/lib/python3.7/dist-packages/ipykernel_launcher.py:2: SettingWithCopyWarning: \n",
            "A value is trying to be set on a copy of a slice from a DataFrame.\n",
            "Try using .loc[row_indexer,col_indexer] = value instead\n",
            "\n",
            "See the caveats in the documentation: https://pandas.pydata.org/pandas-docs/stable/user_guide/indexing.html#returning-a-view-versus-a-copy\n",
            "  \n",
            "/usr/local/lib/python3.7/dist-packages/pandas/core/indexing.py:1773: SettingWithCopyWarning: \n",
            "A value is trying to be set on a copy of a slice from a DataFrame.\n",
            "Try using .loc[row_indexer,col_indexer] = value instead\n",
            "\n",
            "See the caveats in the documentation: https://pandas.pydata.org/pandas-docs/stable/user_guide/indexing.html#returning-a-view-versus-a-copy\n",
            "  self._setitem_single_column(ilocs[0], value, pi)\n"
          ]
        },
        {
          "output_type": "execute_result",
          "data": {
            "text/plain": [
              "        hteam     ateam hscore ascore    Winner\n",
              "0     Arsenal  Man City      1      2  Man City\n",
              "1    Man City   Arsenal      5      0  Man City\n",
              "2     Arsenal  Man City      0      1  Man City\n",
              "3     Arsenal  Man City      1      4  Man City\n",
              "4    Man City   Arsenal      1      0  Man City\n",
              "..        ...       ...    ...    ...       ...\n",
              "200   Arsenal  Man City      0      1  Man City\n",
              "201  Man City   Arsenal      4      1  Man City\n",
              "202   Arsenal  Man City      4      2   Arsenal\n",
              "203  Man City   Arsenal      0      1   Arsenal\n",
              "204   Arsenal  Man City      1      0   Arsenal\n",
              "\n",
              "[205 rows x 5 columns]"
            ],
            "text/html": [
              "\n",
              "  <div id=\"df-7dc6a43d-1546-4440-8d2a-15dcaa4e62c5\">\n",
              "    <div class=\"colab-df-container\">\n",
              "      <div>\n",
              "<style scoped>\n",
              "    .dataframe tbody tr th:only-of-type {\n",
              "        vertical-align: middle;\n",
              "    }\n",
              "\n",
              "    .dataframe tbody tr th {\n",
              "        vertical-align: top;\n",
              "    }\n",
              "\n",
              "    .dataframe thead th {\n",
              "        text-align: right;\n",
              "    }\n",
              "</style>\n",
              "<table border=\"1\" class=\"dataframe\">\n",
              "  <thead>\n",
              "    <tr style=\"text-align: right;\">\n",
              "      <th></th>\n",
              "      <th>hteam</th>\n",
              "      <th>ateam</th>\n",
              "      <th>hscore</th>\n",
              "      <th>ascore</th>\n",
              "      <th>Winner</th>\n",
              "    </tr>\n",
              "  </thead>\n",
              "  <tbody>\n",
              "    <tr>\n",
              "      <th>0</th>\n",
              "      <td>Arsenal</td>\n",
              "      <td>Man City</td>\n",
              "      <td>1</td>\n",
              "      <td>2</td>\n",
              "      <td>Man City</td>\n",
              "    </tr>\n",
              "    <tr>\n",
              "      <th>1</th>\n",
              "      <td>Man City</td>\n",
              "      <td>Arsenal</td>\n",
              "      <td>5</td>\n",
              "      <td>0</td>\n",
              "      <td>Man City</td>\n",
              "    </tr>\n",
              "    <tr>\n",
              "      <th>2</th>\n",
              "      <td>Arsenal</td>\n",
              "      <td>Man City</td>\n",
              "      <td>0</td>\n",
              "      <td>1</td>\n",
              "      <td>Man City</td>\n",
              "    </tr>\n",
              "    <tr>\n",
              "      <th>3</th>\n",
              "      <td>Arsenal</td>\n",
              "      <td>Man City</td>\n",
              "      <td>1</td>\n",
              "      <td>4</td>\n",
              "      <td>Man City</td>\n",
              "    </tr>\n",
              "    <tr>\n",
              "      <th>4</th>\n",
              "      <td>Man City</td>\n",
              "      <td>Arsenal</td>\n",
              "      <td>1</td>\n",
              "      <td>0</td>\n",
              "      <td>Man City</td>\n",
              "    </tr>\n",
              "    <tr>\n",
              "      <th>...</th>\n",
              "      <td>...</td>\n",
              "      <td>...</td>\n",
              "      <td>...</td>\n",
              "      <td>...</td>\n",
              "      <td>...</td>\n",
              "    </tr>\n",
              "    <tr>\n",
              "      <th>200</th>\n",
              "      <td>Arsenal</td>\n",
              "      <td>Man City</td>\n",
              "      <td>0</td>\n",
              "      <td>1</td>\n",
              "      <td>Man City</td>\n",
              "    </tr>\n",
              "    <tr>\n",
              "      <th>201</th>\n",
              "      <td>Man City</td>\n",
              "      <td>Arsenal</td>\n",
              "      <td>4</td>\n",
              "      <td>1</td>\n",
              "      <td>Man City</td>\n",
              "    </tr>\n",
              "    <tr>\n",
              "      <th>202</th>\n",
              "      <td>Arsenal</td>\n",
              "      <td>Man City</td>\n",
              "      <td>4</td>\n",
              "      <td>2</td>\n",
              "      <td>Arsenal</td>\n",
              "    </tr>\n",
              "    <tr>\n",
              "      <th>203</th>\n",
              "      <td>Man City</td>\n",
              "      <td>Arsenal</td>\n",
              "      <td>0</td>\n",
              "      <td>1</td>\n",
              "      <td>Arsenal</td>\n",
              "    </tr>\n",
              "    <tr>\n",
              "      <th>204</th>\n",
              "      <td>Arsenal</td>\n",
              "      <td>Man City</td>\n",
              "      <td>1</td>\n",
              "      <td>0</td>\n",
              "      <td>Arsenal</td>\n",
              "    </tr>\n",
              "  </tbody>\n",
              "</table>\n",
              "<p>205 rows × 5 columns</p>\n",
              "</div>\n",
              "      <button class=\"colab-df-convert\" onclick=\"convertToInteractive('df-7dc6a43d-1546-4440-8d2a-15dcaa4e62c5')\"\n",
              "              title=\"Convert this dataframe to an interactive table.\"\n",
              "              style=\"display:none;\">\n",
              "        \n",
              "  <svg xmlns=\"http://www.w3.org/2000/svg\" height=\"24px\"viewBox=\"0 0 24 24\"\n",
              "       width=\"24px\">\n",
              "    <path d=\"M0 0h24v24H0V0z\" fill=\"none\"/>\n",
              "    <path d=\"M18.56 5.44l.94 2.06.94-2.06 2.06-.94-2.06-.94-.94-2.06-.94 2.06-2.06.94zm-11 1L8.5 8.5l.94-2.06 2.06-.94-2.06-.94L8.5 2.5l-.94 2.06-2.06.94zm10 10l.94 2.06.94-2.06 2.06-.94-2.06-.94-.94-2.06-.94 2.06-2.06.94z\"/><path d=\"M17.41 7.96l-1.37-1.37c-.4-.4-.92-.59-1.43-.59-.52 0-1.04.2-1.43.59L10.3 9.45l-7.72 7.72c-.78.78-.78 2.05 0 2.83L4 21.41c.39.39.9.59 1.41.59.51 0 1.02-.2 1.41-.59l7.78-7.78 2.81-2.81c.8-.78.8-2.07 0-2.86zM5.41 20L4 18.59l7.72-7.72 1.47 1.35L5.41 20z\"/>\n",
              "  </svg>\n",
              "      </button>\n",
              "      \n",
              "  <style>\n",
              "    .colab-df-container {\n",
              "      display:flex;\n",
              "      flex-wrap:wrap;\n",
              "      gap: 12px;\n",
              "    }\n",
              "\n",
              "    .colab-df-convert {\n",
              "      background-color: #E8F0FE;\n",
              "      border: none;\n",
              "      border-radius: 50%;\n",
              "      cursor: pointer;\n",
              "      display: none;\n",
              "      fill: #1967D2;\n",
              "      height: 32px;\n",
              "      padding: 0 0 0 0;\n",
              "      width: 32px;\n",
              "    }\n",
              "\n",
              "    .colab-df-convert:hover {\n",
              "      background-color: #E2EBFA;\n",
              "      box-shadow: 0px 1px 2px rgba(60, 64, 67, 0.3), 0px 1px 3px 1px rgba(60, 64, 67, 0.15);\n",
              "      fill: #174EA6;\n",
              "    }\n",
              "\n",
              "    [theme=dark] .colab-df-convert {\n",
              "      background-color: #3B4455;\n",
              "      fill: #D2E3FC;\n",
              "    }\n",
              "\n",
              "    [theme=dark] .colab-df-convert:hover {\n",
              "      background-color: #434B5C;\n",
              "      box-shadow: 0px 1px 3px 1px rgba(0, 0, 0, 0.15);\n",
              "      filter: drop-shadow(0px 1px 2px rgba(0, 0, 0, 0.3));\n",
              "      fill: #FFFFFF;\n",
              "    }\n",
              "  </style>\n",
              "\n",
              "      <script>\n",
              "        const buttonEl =\n",
              "          document.querySelector('#df-7dc6a43d-1546-4440-8d2a-15dcaa4e62c5 button.colab-df-convert');\n",
              "        buttonEl.style.display =\n",
              "          google.colab.kernel.accessAllowed ? 'block' : 'none';\n",
              "\n",
              "        async function convertToInteractive(key) {\n",
              "          const element = document.querySelector('#df-7dc6a43d-1546-4440-8d2a-15dcaa4e62c5');\n",
              "          const dataTable =\n",
              "            await google.colab.kernel.invokeFunction('convertToInteractive',\n",
              "                                                     [key], {});\n",
              "          if (!dataTable) return;\n",
              "\n",
              "          const docLinkHtml = 'Like what you see? Visit the ' +\n",
              "            '<a target=\"_blank\" href=https://colab.research.google.com/notebooks/data_table.ipynb>data table notebook</a>'\n",
              "            + ' to learn more about interactive tables.';\n",
              "          element.innerHTML = '';\n",
              "          dataTable['output_type'] = 'display_data';\n",
              "          await google.colab.output.renderOutput(dataTable, element);\n",
              "          const docLink = document.createElement('div');\n",
              "          docLink.innerHTML = docLinkHtml;\n",
              "          element.appendChild(docLink);\n",
              "        }\n",
              "      </script>\n",
              "    </div>\n",
              "  </div>\n",
              "  "
            ]
          },
          "metadata": {},
          "execution_count": 42
        }
      ]
    },
    {
      "cell_type": "code",
      "source": [
        "df1 = df.copy()\n",
        "df1['Winner'] = 0\n",
        "\n",
        "df1.loc[df1['hscore']>df1['ascore'],'Winner'] = 1\n",
        "\n",
        "df1.loc[df1['hscore']<df1['ascore'],'Winner'] = -1\n",
        "\n",
        "df1"
      ],
      "metadata": {
        "id": "gDbK66Cm4VXH",
        "colab": {
          "base_uri": "https://localhost:8080/",
          "height": 424
        },
        "outputId": "daae94fe-b954-4fdc-d054-df4d9e82f283"
      },
      "execution_count": 43,
      "outputs": [
        {
          "output_type": "execute_result",
          "data": {
            "text/plain": [
              "                  league           date     hteam     ateam hscore ascore  \\\n",
              "0         Premier League  Sa 01Jan 2022   Arsenal  Man City      1      2   \n",
              "1         Premier League  Sa 28Aug 2021  Man City   Arsenal      5      0   \n",
              "2         Premier League  Su 21Feb 2021   Arsenal  Man City      0      1   \n",
              "3                EFL Cup  Tu 22Dec 2020   Arsenal  Man City      1      4   \n",
              "4         Premier League  Sa 17Oct 2020  Man City   Arsenal      1      0   \n",
              "..                   ...            ...       ...       ...    ...    ...   \n",
              "200  English Div 2 (old)  Sa 07Sep 1895   Arsenal  Man City      0      1   \n",
              "201  English Div 2 (old)  Sa 15Dec 1894  Man City   Arsenal      4      1   \n",
              "202  English Div 2 (old)  Sa 29Sep 1894   Arsenal  Man City      4      2   \n",
              "203  English Div 2 (old)  Sa 30Dec 1893  Man City   Arsenal      0      1   \n",
              "204  English Div 2 (old)  Sa 11Nov 1893   Arsenal  Man City      1      0   \n",
              "\n",
              "     Winner  \n",
              "0        -1  \n",
              "1         1  \n",
              "2        -1  \n",
              "3        -1  \n",
              "4         1  \n",
              "..      ...  \n",
              "200      -1  \n",
              "201       1  \n",
              "202       1  \n",
              "203      -1  \n",
              "204       1  \n",
              "\n",
              "[205 rows x 7 columns]"
            ],
            "text/html": [
              "\n",
              "  <div id=\"df-e39daa82-2b70-4bf6-adc6-22d242238d23\">\n",
              "    <div class=\"colab-df-container\">\n",
              "      <div>\n",
              "<style scoped>\n",
              "    .dataframe tbody tr th:only-of-type {\n",
              "        vertical-align: middle;\n",
              "    }\n",
              "\n",
              "    .dataframe tbody tr th {\n",
              "        vertical-align: top;\n",
              "    }\n",
              "\n",
              "    .dataframe thead th {\n",
              "        text-align: right;\n",
              "    }\n",
              "</style>\n",
              "<table border=\"1\" class=\"dataframe\">\n",
              "  <thead>\n",
              "    <tr style=\"text-align: right;\">\n",
              "      <th></th>\n",
              "      <th>league</th>\n",
              "      <th>date</th>\n",
              "      <th>hteam</th>\n",
              "      <th>ateam</th>\n",
              "      <th>hscore</th>\n",
              "      <th>ascore</th>\n",
              "      <th>Winner</th>\n",
              "    </tr>\n",
              "  </thead>\n",
              "  <tbody>\n",
              "    <tr>\n",
              "      <th>0</th>\n",
              "      <td>Premier League</td>\n",
              "      <td>Sa 01Jan 2022</td>\n",
              "      <td>Arsenal</td>\n",
              "      <td>Man City</td>\n",
              "      <td>1</td>\n",
              "      <td>2</td>\n",
              "      <td>-1</td>\n",
              "    </tr>\n",
              "    <tr>\n",
              "      <th>1</th>\n",
              "      <td>Premier League</td>\n",
              "      <td>Sa 28Aug 2021</td>\n",
              "      <td>Man City</td>\n",
              "      <td>Arsenal</td>\n",
              "      <td>5</td>\n",
              "      <td>0</td>\n",
              "      <td>1</td>\n",
              "    </tr>\n",
              "    <tr>\n",
              "      <th>2</th>\n",
              "      <td>Premier League</td>\n",
              "      <td>Su 21Feb 2021</td>\n",
              "      <td>Arsenal</td>\n",
              "      <td>Man City</td>\n",
              "      <td>0</td>\n",
              "      <td>1</td>\n",
              "      <td>-1</td>\n",
              "    </tr>\n",
              "    <tr>\n",
              "      <th>3</th>\n",
              "      <td>EFL Cup</td>\n",
              "      <td>Tu 22Dec 2020</td>\n",
              "      <td>Arsenal</td>\n",
              "      <td>Man City</td>\n",
              "      <td>1</td>\n",
              "      <td>4</td>\n",
              "      <td>-1</td>\n",
              "    </tr>\n",
              "    <tr>\n",
              "      <th>4</th>\n",
              "      <td>Premier League</td>\n",
              "      <td>Sa 17Oct 2020</td>\n",
              "      <td>Man City</td>\n",
              "      <td>Arsenal</td>\n",
              "      <td>1</td>\n",
              "      <td>0</td>\n",
              "      <td>1</td>\n",
              "    </tr>\n",
              "    <tr>\n",
              "      <th>...</th>\n",
              "      <td>...</td>\n",
              "      <td>...</td>\n",
              "      <td>...</td>\n",
              "      <td>...</td>\n",
              "      <td>...</td>\n",
              "      <td>...</td>\n",
              "      <td>...</td>\n",
              "    </tr>\n",
              "    <tr>\n",
              "      <th>200</th>\n",
              "      <td>English Div 2 (old)</td>\n",
              "      <td>Sa 07Sep 1895</td>\n",
              "      <td>Arsenal</td>\n",
              "      <td>Man City</td>\n",
              "      <td>0</td>\n",
              "      <td>1</td>\n",
              "      <td>-1</td>\n",
              "    </tr>\n",
              "    <tr>\n",
              "      <th>201</th>\n",
              "      <td>English Div 2 (old)</td>\n",
              "      <td>Sa 15Dec 1894</td>\n",
              "      <td>Man City</td>\n",
              "      <td>Arsenal</td>\n",
              "      <td>4</td>\n",
              "      <td>1</td>\n",
              "      <td>1</td>\n",
              "    </tr>\n",
              "    <tr>\n",
              "      <th>202</th>\n",
              "      <td>English Div 2 (old)</td>\n",
              "      <td>Sa 29Sep 1894</td>\n",
              "      <td>Arsenal</td>\n",
              "      <td>Man City</td>\n",
              "      <td>4</td>\n",
              "      <td>2</td>\n",
              "      <td>1</td>\n",
              "    </tr>\n",
              "    <tr>\n",
              "      <th>203</th>\n",
              "      <td>English Div 2 (old)</td>\n",
              "      <td>Sa 30Dec 1893</td>\n",
              "      <td>Man City</td>\n",
              "      <td>Arsenal</td>\n",
              "      <td>0</td>\n",
              "      <td>1</td>\n",
              "      <td>-1</td>\n",
              "    </tr>\n",
              "    <tr>\n",
              "      <th>204</th>\n",
              "      <td>English Div 2 (old)</td>\n",
              "      <td>Sa 11Nov 1893</td>\n",
              "      <td>Arsenal</td>\n",
              "      <td>Man City</td>\n",
              "      <td>1</td>\n",
              "      <td>0</td>\n",
              "      <td>1</td>\n",
              "    </tr>\n",
              "  </tbody>\n",
              "</table>\n",
              "<p>205 rows × 7 columns</p>\n",
              "</div>\n",
              "      <button class=\"colab-df-convert\" onclick=\"convertToInteractive('df-e39daa82-2b70-4bf6-adc6-22d242238d23')\"\n",
              "              title=\"Convert this dataframe to an interactive table.\"\n",
              "              style=\"display:none;\">\n",
              "        \n",
              "  <svg xmlns=\"http://www.w3.org/2000/svg\" height=\"24px\"viewBox=\"0 0 24 24\"\n",
              "       width=\"24px\">\n",
              "    <path d=\"M0 0h24v24H0V0z\" fill=\"none\"/>\n",
              "    <path d=\"M18.56 5.44l.94 2.06.94-2.06 2.06-.94-2.06-.94-.94-2.06-.94 2.06-2.06.94zm-11 1L8.5 8.5l.94-2.06 2.06-.94-2.06-.94L8.5 2.5l-.94 2.06-2.06.94zm10 10l.94 2.06.94-2.06 2.06-.94-2.06-.94-.94-2.06-.94 2.06-2.06.94z\"/><path d=\"M17.41 7.96l-1.37-1.37c-.4-.4-.92-.59-1.43-.59-.52 0-1.04.2-1.43.59L10.3 9.45l-7.72 7.72c-.78.78-.78 2.05 0 2.83L4 21.41c.39.39.9.59 1.41.59.51 0 1.02-.2 1.41-.59l7.78-7.78 2.81-2.81c.8-.78.8-2.07 0-2.86zM5.41 20L4 18.59l7.72-7.72 1.47 1.35L5.41 20z\"/>\n",
              "  </svg>\n",
              "      </button>\n",
              "      \n",
              "  <style>\n",
              "    .colab-df-container {\n",
              "      display:flex;\n",
              "      flex-wrap:wrap;\n",
              "      gap: 12px;\n",
              "    }\n",
              "\n",
              "    .colab-df-convert {\n",
              "      background-color: #E8F0FE;\n",
              "      border: none;\n",
              "      border-radius: 50%;\n",
              "      cursor: pointer;\n",
              "      display: none;\n",
              "      fill: #1967D2;\n",
              "      height: 32px;\n",
              "      padding: 0 0 0 0;\n",
              "      width: 32px;\n",
              "    }\n",
              "\n",
              "    .colab-df-convert:hover {\n",
              "      background-color: #E2EBFA;\n",
              "      box-shadow: 0px 1px 2px rgba(60, 64, 67, 0.3), 0px 1px 3px 1px rgba(60, 64, 67, 0.15);\n",
              "      fill: #174EA6;\n",
              "    }\n",
              "\n",
              "    [theme=dark] .colab-df-convert {\n",
              "      background-color: #3B4455;\n",
              "      fill: #D2E3FC;\n",
              "    }\n",
              "\n",
              "    [theme=dark] .colab-df-convert:hover {\n",
              "      background-color: #434B5C;\n",
              "      box-shadow: 0px 1px 3px 1px rgba(0, 0, 0, 0.15);\n",
              "      filter: drop-shadow(0px 1px 2px rgba(0, 0, 0, 0.3));\n",
              "      fill: #FFFFFF;\n",
              "    }\n",
              "  </style>\n",
              "\n",
              "      <script>\n",
              "        const buttonEl =\n",
              "          document.querySelector('#df-e39daa82-2b70-4bf6-adc6-22d242238d23 button.colab-df-convert');\n",
              "        buttonEl.style.display =\n",
              "          google.colab.kernel.accessAllowed ? 'block' : 'none';\n",
              "\n",
              "        async function convertToInteractive(key) {\n",
              "          const element = document.querySelector('#df-e39daa82-2b70-4bf6-adc6-22d242238d23');\n",
              "          const dataTable =\n",
              "            await google.colab.kernel.invokeFunction('convertToInteractive',\n",
              "                                                     [key], {});\n",
              "          if (!dataTable) return;\n",
              "\n",
              "          const docLinkHtml = 'Like what you see? Visit the ' +\n",
              "            '<a target=\"_blank\" href=https://colab.research.google.com/notebooks/data_table.ipynb>data table notebook</a>'\n",
              "            + ' to learn more about interactive tables.';\n",
              "          element.innerHTML = '';\n",
              "          dataTable['output_type'] = 'display_data';\n",
              "          await google.colab.output.renderOutput(dataTable, element);\n",
              "          const docLink = document.createElement('div');\n",
              "          docLink.innerHTML = docLinkHtml;\n",
              "          element.appendChild(docLink);\n",
              "        }\n",
              "      </script>\n",
              "    </div>\n",
              "  </div>\n",
              "  "
            ]
          },
          "metadata": {},
          "execution_count": 43
        }
      ]
    },
    {
      "cell_type": "code",
      "source": [
        "# if df1.loc[df1['hscore']>df1['ascore']]:\n",
        "#   df1['Winner'] = 1\n",
        "\n",
        "# if df1.loc[df1['hscore']<df1['ascore']]:\n",
        "#   df1['Winner'] = 1\n",
        "\n",
        "# else:\n",
        "#   df1['Winner'] = 0"
      ],
      "metadata": {
        "id": "AU_HI9QV5jXa"
      },
      "execution_count": 44,
      "outputs": []
    },
    {
      "cell_type": "code",
      "source": [],
      "metadata": {
        "id": "dJYliMkVvg5u"
      },
      "execution_count": 44,
      "outputs": []
    },
    {
      "cell_type": "code",
      "source": [
        "df = df.astype({'hscore':'float','ascore':'float'})\n",
        "df['winner']=''\n",
        "df.info()"
      ],
      "metadata": {
        "id": "HYOxU6KdvnvK",
        "colab": {
          "base_uri": "https://localhost:8080/"
        },
        "outputId": "1a276a01-5d81-4128-d15c-16dd90d5b5af"
      },
      "execution_count": 45,
      "outputs": [
        {
          "output_type": "stream",
          "name": "stdout",
          "text": [
            "<class 'pandas.core.frame.DataFrame'>\n",
            "RangeIndex: 205 entries, 0 to 204\n",
            "Data columns (total 7 columns):\n",
            " #   Column  Non-Null Count  Dtype  \n",
            "---  ------  --------------  -----  \n",
            " 0   league  205 non-null    object \n",
            " 1   date    205 non-null    object \n",
            " 2   hteam   205 non-null    object \n",
            " 3   ateam   205 non-null    object \n",
            " 4   hscore  205 non-null    float64\n",
            " 5   ascore  205 non-null    float64\n",
            " 6   winner  205 non-null    object \n",
            "dtypes: float64(2), object(5)\n",
            "memory usage: 11.3+ KB\n"
          ]
        }
      ]
    },
    {
      "cell_type": "code",
      "source": [],
      "metadata": {
        "id": "E-C5q81Hp0LX"
      },
      "execution_count": 45,
      "outputs": []
    },
    {
      "cell_type": "code",
      "source": [
        "h=df.hscore\n",
        "a=df.ascore\n",
        "# x=(df[df['hscore']>df['ascore']])\n",
        "x=df['hscore']>df['ascore']\n",
        "df.loc[:,'winner']=x\n",
        "# if df[h>a]:\n",
        "#   df.winner='win'\n",
        "# else:\n",
        "#   df.winner='Draw'\n",
        "# for i in df['winner']:\n",
        "#   if i==False:\n",
        "#     df['winner']=df['winner'].replace('False',\"df['ateam']\")\n",
        "#   else:\n",
        "#     df['winner']=df['winner'].replace('True',\"df['hteam']\")\n",
        "df\n",
        "df['winner']"
      ],
      "metadata": {
        "colab": {
          "base_uri": "https://localhost:8080/"
        },
        "id": "y2Cd7FZXpKa_",
        "outputId": "f90ee935-2510-4caa-a58a-74874c7108af"
      },
      "execution_count": 46,
      "outputs": [
        {
          "output_type": "execute_result",
          "data": {
            "text/plain": [
              "0      False\n",
              "1       True\n",
              "2      False\n",
              "3      False\n",
              "4       True\n",
              "       ...  \n",
              "200    False\n",
              "201     True\n",
              "202     True\n",
              "203    False\n",
              "204     True\n",
              "Name: winner, Length: 205, dtype: bool"
            ]
          },
          "metadata": {},
          "execution_count": 46
        }
      ]
    },
    {
      "cell_type": "code",
      "source": [
        "#df['date'] = df['date'].replace(['Sa','Su','Mo','Tu','We','Th','Fr'],['Saturday','Sunday','Monday','Tuesday','Wednesday','Thursday','Friday'])"
      ],
      "metadata": {
        "id": "W7IU9uMKn-uu"
      },
      "execution_count": 47,
      "outputs": []
    },
    {
      "cell_type": "code",
      "source": [
        "df.date.str.split('')"
      ],
      "metadata": {
        "colab": {
          "base_uri": "https://localhost:8080/"
        },
        "id": "CMpZoL5Yn-pt",
        "outputId": "ecb62df8-6df1-42f3-816d-e00100b10534"
      },
      "execution_count": 48,
      "outputs": [
        {
          "output_type": "execute_result",
          "data": {
            "text/plain": [
              "0      [, S, a,  , 0, 1, J, a, n,  , 2, 0, 2, 2, ]\n",
              "1      [, S, a,  , 2, 8, A, u, g,  , 2, 0, 2, 1, ]\n",
              "2      [, S, u,  , 2, 1, F, e, b,  , 2, 0, 2, 1, ]\n",
              "3      [, T, u,  , 2, 2, D, e, c,  , 2, 0, 2, 0, ]\n",
              "4      [, S, a,  , 1, 7, O, c, t,  , 2, 0, 2, 0, ]\n",
              "                          ...                     \n",
              "200    [, S, a,  , 0, 7, S, e, p,  , 1, 8, 9, 5, ]\n",
              "201    [, S, a,  , 1, 5, D, e, c,  , 1, 8, 9, 4, ]\n",
              "202    [, S, a,  , 2, 9, S, e, p,  , 1, 8, 9, 4, ]\n",
              "203    [, S, a,  , 3, 0, D, e, c,  , 1, 8, 9, 3, ]\n",
              "204    [, S, a,  , 1, 1, N, o, v,  , 1, 8, 9, 3, ]\n",
              "Name: date, Length: 205, dtype: object"
            ]
          },
          "metadata": {},
          "execution_count": 48
        }
      ]
    },
    {
      "cell_type": "code",
      "source": [],
      "metadata": {
        "id": "0HSVVcaun-m1"
      },
      "execution_count": 48,
      "outputs": []
    },
    {
      "cell_type": "code",
      "source": [],
      "metadata": {
        "id": "C-OgF3jteNX1"
      },
      "execution_count": 48,
      "outputs": []
    },
    {
      "cell_type": "code",
      "source": [],
      "metadata": {
        "id": "95iMBGnua2TW"
      },
      "execution_count": 48,
      "outputs": []
    }
  ]
}