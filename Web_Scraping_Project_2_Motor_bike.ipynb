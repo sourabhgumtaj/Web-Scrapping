{
  "cells": [
    {
      "cell_type": "markdown",
      "metadata": {
        "id": "pO-p7mILWWIL"
      },
      "source": [
        "# Web Scrapping on Motor bikes Website.\n",
        "\n",
        "- We are going to scrape https://www.carandbike.com/new-bikes\n",
        "- we will extract details about each motor bike.\n",
        "- we will make a csv file using details like name, price, cc, mileage,weight link\n"
      ]
    },
    {
      "cell_type": "code",
      "execution_count": 2,
      "metadata": {
        "scrolled": true,
        "id": "TtO9vSPXWWIU"
      },
      "outputs": [],
      "source": [
        "# import requests library to access data from the web pages.\n",
        "import requests\n",
        "from bs4 import BeautifulSoup as bs\n",
        "import pandas as pd"
      ]
    },
    {
      "cell_type": "code",
      "execution_count": 3,
      "metadata": {
        "id": "sZq0frGIWWIW"
      },
      "outputs": [],
      "source": [
        "project_url= 'https://www.carandbike.com/new-bikes/models'"
      ]
    },
    {
      "cell_type": "code",
      "execution_count": 4,
      "metadata": {
        "scrolled": true,
        "id": "EfVt-s3IWWIX"
      },
      "outputs": [],
      "source": [
        "response= requests.get(project_url)"
      ]
    },
    {
      "cell_type": "code",
      "execution_count": 5,
      "metadata": {
        "id": "mVwueeeDWWIY",
        "outputId": "f33dfeca-7f8d-4680-e5e7-f372791472fc",
        "colab": {
          "base_uri": "https://localhost:8080/"
        }
      },
      "outputs": [
        {
          "output_type": "execute_result",
          "data": {
            "text/plain": [
              "493435"
            ]
          },
          "metadata": {},
          "execution_count": 5
        }
      ],
      "source": [
        "len(response.text)"
      ]
    },
    {
      "cell_type": "code",
      "execution_count": 6,
      "metadata": {
        "id": "lII5IGprWWIa",
        "outputId": "945e673b-ebaf-4448-ee52-62f20162f4c2",
        "colab": {
          "base_uri": "https://localhost:8080/"
        }
      },
      "outputs": [
        {
          "output_type": "execute_result",
          "data": {
            "text/plain": [
              "200"
            ]
          },
          "metadata": {},
          "execution_count": 6
        }
      ],
      "source": [
        "response.status_code"
      ]
    },
    {
      "cell_type": "code",
      "execution_count": 7,
      "metadata": {
        "id": "_8BOa2F8WWIb"
      },
      "outputs": [],
      "source": [
        "content= response.text"
      ]
    },
    {
      "cell_type": "code",
      "execution_count": 8,
      "metadata": {
        "scrolled": true,
        "id": "9fkhjXu4WWIc",
        "outputId": "562eefd6-2280-43ab-d887-d65e65b6e584",
        "colab": {
          "base_uri": "https://localhost:8080/",
          "height": 122
        }
      },
      "outputs": [
        {
          "output_type": "execute_result",
          "data": {
            "text/plain": [
              "'<!DOCTYPE html><html lang=\"en\"><head><meta charSet=\"utf-8\"/><meta name=\"viewport\" content=\"width=device-width\"/><title>New Bikes Prices List, Latest Models, Reviews &amp; News India 2022</title><link rel=\"shortcut icon\" href=\"/favicons/favicon.png\"/><link rel=\"apple-touch-icon\" sizes=\"180x180\" href=\"/favicons/apple-favicon.png\"/><link rel=\"icon\" type=\"image/png\" sizes=\"32x32\" href=\"/favicons/task-favicon.png\"/><link href=\"https://images.carandbike.com\" rel=\"dns-prefetch\"/><link href=\"www.googletagmanager.com\" rel=\"dns-prefetch\"/><meta name=\"description\" content=\"Get details about all new bike models in India. Visit us and find new bike models, bike prices, bike features, bike comparison of different variants in India.\"/><meta name=\"keywords\" content=\"new bikes, new bikes india, bike purchase, buy new bike, new model bike, best bike to buy, purchase bikes, purchase vehicles, buy new bikes, best new bikes to buy, best new vehicles buy india\"/><meta property=\"og:site_name\" content=\"carand'"
            ],
            "application/vnd.google.colaboratory.intrinsic+json": {
              "type": "string"
            }
          },
          "metadata": {},
          "execution_count": 8
        }
      ],
      "source": [
        "content[:1000]"
      ]
    },
    {
      "cell_type": "code",
      "execution_count": 9,
      "metadata": {
        "id": "1hzlqNueWWId"
      },
      "outputs": [],
      "source": [
        "doc= bs(content,\"html.parser\")"
      ]
    },
    {
      "cell_type": "code",
      "execution_count": 10,
      "metadata": {
        "scrolled": true,
        "id": "kebyK3o6WWIe",
        "outputId": "37ded3a5-7be6-4c53-de03-18ea9d2a4904",
        "colab": {
          "base_uri": "https://localhost:8080/",
          "height": 182
        }
      },
      "outputs": [
        {
          "output_type": "error",
          "ename": "IndexError",
          "evalue": "ignored",
          "traceback": [
            "\u001b[0;31m---------------------------------------------------------------------------\u001b[0m",
            "\u001b[0;31mIndexError\u001b[0m                                Traceback (most recent call last)",
            "\u001b[0;32m<ipython-input-10-70be05e3039b>\u001b[0m in \u001b[0;36m<module>\u001b[0;34m\u001b[0m\n\u001b[1;32m      1\u001b[0m \u001b[0mbike_url_tags\u001b[0m\u001b[0;34m=\u001b[0m  \u001b[0mdoc\u001b[0m\u001b[0;34m.\u001b[0m\u001b[0mfind_all\u001b[0m\u001b[0;34m(\u001b[0m\u001b[0;34m'a'\u001b[0m\u001b[0;34m,\u001b[0m\u001b[0;34m{\u001b[0m\u001b[0;34m'class'\u001b[0m\u001b[0;34m:\u001b[0m\u001b[0;34m'newmodel-bike__link h__block h__mb10 js-cty-url-new'\u001b[0m\u001b[0;34m}\u001b[0m\u001b[0;34m)\u001b[0m\u001b[0;34m\u001b[0m\u001b[0;34m\u001b[0m\u001b[0m\n\u001b[0;32m----> 2\u001b[0;31m \u001b[0mbike_url_tags\u001b[0m\u001b[0;34m[\u001b[0m\u001b[0;36m0\u001b[0m\u001b[0;34m]\u001b[0m\u001b[0;34m[\u001b[0m\u001b[0;34m'href'\u001b[0m\u001b[0;34m]\u001b[0m\u001b[0;34m\u001b[0m\u001b[0;34m\u001b[0m\u001b[0m\n\u001b[0m",
            "\u001b[0;31mIndexError\u001b[0m: list index out of range"
          ]
        }
      ],
      "source": [
        "bike_url_tags=  doc.find_all('a',{'class':'newmodel-bike__link h__block h__mb10 js-cty-url-new'})\n",
        "bike_url_tags[0]['href']"
      ]
    },
    {
      "cell_type": "code",
      "execution_count": null,
      "metadata": {
        "id": "cRpa8yQ4WWIf"
      },
      "outputs": [],
      "source": [
        "bike_name_tags= doc.find_all('figcaption')\n",
        "bike_name_tags[0].h2.text"
      ]
    },
    {
      "cell_type": "code",
      "execution_count": null,
      "metadata": {
        "id": "Na44LgTLWWIg"
      },
      "outputs": [],
      "source": [
        "bike_price_tags= doc.find_all('div',{'class':'newmodel-bike__price h__truncate'})\n",
        "bike_price_tags[0].text.strip()"
      ]
    },
    {
      "cell_type": "code",
      "execution_count": null,
      "metadata": {
        "id": "l7f0bO6xWWIh"
      },
      "outputs": [],
      "source": [
        "other_details=[]\n",
        "other_info= doc.find_all('ul',{'class':'newmodel-bike__spec grid-flex grid-am h__mb15'})\n",
        "for i in other_info:\n",
        "    other_details+= [[j.text for j in i.find_all('li',{'class':'newmodel-bike__spec-col'})]]\n",
        "other_details"
      ]
    },
    {
      "cell_type": "code",
      "execution_count": null,
      "metadata": {
        "scrolled": true,
        "id": "CQqSZWVrWWIi"
      },
      "outputs": [],
      "source": [
        "bike_details=[]\n",
        "for url,name,price,mis in zip(bike_url_tags,bike_name_tags,bike_price_tags,other_details):\n",
        "    bike_details.append({'Model Name':name.h2.text,\n",
        "                         'Link':url['href'],\n",
        "                        'Price':price.text.strip(),\n",
        "                        'Range':mis[0],\n",
        "                        'Weight':mis[1]})"
      ]
    },
    {
      "cell_type": "code",
      "execution_count": null,
      "metadata": {
        "scrolled": false,
        "id": "gvKnEe7LWWIj"
      },
      "outputs": [],
      "source": [
        "bike_details[:5],len(bike_details)"
      ]
    },
    {
      "cell_type": "code",
      "execution_count": null,
      "metadata": {
        "id": "VAWmA7tEWWIj"
      },
      "outputs": [],
      "source": [
        "#lets create dataframe using dictionary\n",
        "df= pd.DataFrame(bike_details,columns=['Model Name','Price','Range','Weight','Link'])\n",
        "df"
      ]
    },
    {
      "cell_type": "markdown",
      "metadata": {
        "id": "UGg-Vkp4WWIk"
      },
      "source": [
        "#### Lets create functions to combine all the steps to perform on multiple multiple pages"
      ]
    },
    {
      "cell_type": "code",
      "execution_count": null,
      "metadata": {
        "id": "uZHD6ENWWWIl"
      },
      "outputs": [],
      "source": [
        "def get_page_contents(url):\n",
        "    \"\"\"\n",
        "    This function takes url as input and return html page\n",
        "    \"\"\"\n",
        "    response= requests.get(url)\n",
        "    \n",
        "    if response.status_code==200:\n",
        "        docs= bs(response.text,'html.parser')\n",
        "        return docs\n",
        "\n",
        "def get_tags(doc):\n",
        "    \"\"\"\n",
        "    This function takes html page as an input and extracts details about bike\n",
        "    \"\"\"\n",
        "    name_tags= doc.find_all('figcaption')\n",
        "    \n",
        "    url_tags= doc.find_all('a',{'class':'newmodel-bike__link h__block h__mb10 js-cty-url-new'})\n",
        "    \n",
        "    price_tags= doc.find_all('div',{'class':'newmodel-bike__price h__truncate'})\n",
        "    \n",
        "    other_details=[]\n",
        "    mis_info= doc.find_all('ul',{'class':'newmodel-bike__spec grid-flex grid-am h__mb15'})\n",
        "    for i in mis_info:\n",
        "        other_details+= [[j.text for j in i.find_all('li',{'class':'newmodel-bike__spec-col'})]]\n",
        "        \n",
        "    return name_tags,price_tags,other_details,url_tags\n",
        "\n",
        "def form_dict(name_tags,price_tags,other_details,url_tags):\n",
        "    \"\"\"\n",
        "    This function takes differents tags and creates a list of dictionaries out of it\n",
        "    \"\"\"\n",
        "\n",
        "    d=[]\n",
        "    \n",
        "    for name,price,mis, url in zip(name_tags, price_tags, other_details, url_tags):\n",
        "        d.append({'Model Name':name.h2.text,\n",
        "                 'Price':price.text.strip(),\n",
        "                  'CC':mis[0],\n",
        "                 'Mileage':mis[1],\n",
        "                 'Weight':mis[2],\n",
        "                 'Links':url['href']})\n",
        "    return d\n",
        "\n",
        "def create_df(*args):\n",
        "    return pd.DataFrame(*args)\n",
        "\n",
        "\n",
        "#Lets gets details of 300 pages of bikes\n",
        "\n",
        "base_url='https://www.carandbike.com/new-bikes/models'\n",
        "\n",
        "final_list=[]\n",
        "for i in range(300):\n",
        "    doc= get_page_contents(base_url+'/'+str(i))\n",
        "    name,price,other,url= get_tags(doc)\n",
        "    final_list+=form_dict(name,price,other,url)\n",
        "\n",
        "df= create_df(final_list)"
      ]
    },
    {
      "cell_type": "code",
      "execution_count": null,
      "metadata": {
        "id": "Bmp-LrFRWWIm"
      },
      "outputs": [],
      "source": [
        "df.head(11)"
      ]
    },
    {
      "cell_type": "code",
      "execution_count": null,
      "metadata": {
        "id": "09KzH_84WWIn"
      },
      "outputs": [],
      "source": [
        "len(df)"
      ]
    },
    {
      "cell_type": "code",
      "execution_count": null,
      "metadata": {
        "id": "5NSBfGIbWWIo"
      },
      "outputs": [],
      "source": [
        "df_copy= df.copy()"
      ]
    },
    {
      "cell_type": "code",
      "execution_count": null,
      "metadata": {
        "scrolled": false,
        "id": "k2hsTDQOWWIo"
      },
      "outputs": [],
      "source": [
        "#electic bikes has no dimensions for engine as they run on batteries.\n",
        "electric_bikes= df_copy[df_copy['CC']=='NA'].reset_index().drop('index',axis=1)\n",
        "electric_bikes"
      ]
    },
    {
      "cell_type": "code",
      "execution_count": null,
      "metadata": {
        "scrolled": true,
        "id": "4OZf_HVXWWIp"
      },
      "outputs": [],
      "source": [
        "electric_bikes.shape"
      ]
    },
    {
      "cell_type": "code",
      "execution_count": null,
      "metadata": {
        "id": "tugb2qW2WWIp"
      },
      "outputs": [],
      "source": [
        "#saving dataframes\n",
        "electric_bikes.to_csv('electric_bikes.csv')\n",
        "df.to_csv('bikes.csv')"
      ]
    },
    {
      "cell_type": "code",
      "execution_count": null,
      "metadata": {
        "id": "1nfp-QisWWIq"
      },
      "outputs": [],
      "source": [
        "electric= pd.read_csv('electric_bikes.csv',index_col=0)\n",
        "electric.head()"
      ]
    },
    {
      "cell_type": "code",
      "execution_count": null,
      "metadata": {
        "id": "VLz2W-YNWWIq"
      },
      "outputs": [],
      "source": [
        "all_bikes= pd.read_csv('bikes.csv',index_col=0)\n",
        "all_bikes.head(21)"
      ]
    },
    {
      "cell_type": "markdown",
      "metadata": {
        "id": "0DfomG6hWWIr"
      },
      "source": [
        "#### Conclusions:\n",
        "- As we can see there are lots of bikes in indian market\n",
        "- we have extracted the basic details of each bike like model name, price,cc, mileage, weight, links\n",
        "- There are more than 3500 bikes in india out of which close to 50-60 are electric. \n",
        "\n",
        "#### Future Work:\n",
        "\n",
        "- extract more details like ratings, colours available, brakes,fuel tank capacity, on road price, max power, max torque, feutures list"
      ]
    },
    {
      "cell_type": "code",
      "source": [],
      "metadata": {
        "id": "_ElBw5c5iBKm"
      },
      "execution_count": null,
      "outputs": []
    }
  ],
  "metadata": {
    "kernelspec": {
      "display_name": "Python 3",
      "language": "python",
      "name": "python3"
    },
    "language_info": {
      "codemirror_mode": {
        "name": "ipython",
        "version": 3
      },
      "file_extension": ".py",
      "mimetype": "text/x-python",
      "name": "python",
      "nbconvert_exporter": "python",
      "pygments_lexer": "ipython3",
      "version": "3.8.3"
    },
    "colab": {
      "provenance": []
    }
  },
  "nbformat": 4,
  "nbformat_minor": 0
}